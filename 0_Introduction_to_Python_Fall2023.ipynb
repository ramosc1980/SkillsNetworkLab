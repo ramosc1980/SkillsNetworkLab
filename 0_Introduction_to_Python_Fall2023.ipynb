{
  "cells": [
    {
      "cell_type": "markdown",
      "metadata": {
        "id": "view-in-github",
        "colab_type": "text"
      },
      "source": [
        "<a href=\"https://colab.research.google.com/github/ramosc1980/SkillsNetworkLab/blob/main/0_Introduction_to_Python_Fall2023.ipynb\" target=\"_parent\"><img src=\"https://colab.research.google.com/assets/colab-badge.svg\" alt=\"Open In Colab\"/></a>"
      ]
    },
    {
      "cell_type": "markdown",
      "source": [
        "# Lesson 1: Introduction to Python\n",
        "\n",
        "Link to this notebook: : https://aub.ie/intro1\n",
        "\n",
        "**[Important!] You should make your own copy of this notebook by selecting File->Save a copy in Drive from the menu bar above.**\n",
        "Each student should start with their own copy of a given class notebook so they can freely change, annotate, and experiment without affecting the official copy."
      ],
      "metadata": {
        "id": "9rqxCSBTBiPS"
      }
    },
    {
      "cell_type": "markdown",
      "source": [
        "## Why Python?\n",
        "\n",
        "It is well-known that computer programming skills can make students marketable after they graduate, as many jobs in business and finance value computational proficiency. Python is now one of the most popular programming languages. One recent survey of several thousand job listings for data scientists in Indeed, SimplyHired, and Monster reports that, among the top 15 technologies in demand, Python ranked first (Hale, 2019). In many firms in finance and banking, Python seems to be replacing Excel. Matthew Hampson, deputy chief digital officer at Nomura, stated that “[t]he concept of rapid innovation has always existed in financial services, but it was done using the Excel spreadsheet. We now have a new vehicle for doing that - Python.” (Butcher, 2019).\n",
        "\n",
        "Thomas Sargent, the author of a popular textbook Recursive Macroeconomic Theory and a Nobel Prize winner, has a website called Quantitative Economics with Python (https://python.quantecon.org, developed with John Stachurski), that presents a set of lectures on Python programming for economics and finance.\n",
        "\n",
        "This tutorial is divided into two parts; they are:\n",
        "\n",
        "* What is Google Colab?\n",
        "* Introduction to Python"
      ],
      "metadata": {
        "id": "n-bMSp1IL5Jy"
      }
    },
    {
      "cell_type": "markdown",
      "source": [
        "# What is Google Colab\n",
        "\n",
        "Colab, or \"Colaboratory\", allows you to write and execute Python in your browser, with\n",
        "\n",
        "* Zero configuration required\n",
        "* Access to GPUs free of charge\n",
        "* Easy sharing\n",
        "\n",
        "Colab notebooks allow you to combine executable code and rich text in a single document, along with images, HTML, LaTeX and more. When you create your own Colab notebooks, they are stored in your Google Drive account. You can easily share your Colab notebooks with co-workers or friends, allowing them to comment on your notebooks or even edit them.\n"
      ],
      "metadata": {
        "id": "OrdiZqdkB36z"
      }
    },
    {
      "cell_type": "markdown",
      "source": [
        "## Google Colab Quick Start Guide\n",
        "\n",
        "1. You can share your Google Colab file with others using the Share button on the top right-hand corner or start coding!\n",
        "\n",
        "2. The hotkeys on Colab and that on Jupyter notebooks are similar. These are some of the useful ones:\n",
        "\n",
        "    * Run cell: Ctrl + Enter\n",
        "    * Run cell and add new cell below: Alt + Enter\n",
        "    * Run cell and goto cell below: Shift + Enter\n",
        "    * Run selected part of a cell: Ctrl + Shift + Enter\n",
        "\n",
        "3. In Colab, you can change the runtime to include GPUs and TPUs in addition to CPUs because it is executed on Google’s cloud. You can switch to a different runtime by going to Runtime ▷ Change runtime type. You can then select from the different hardware accelerators to equip your environment with.\n",
        "\n",
        "4. Google Colab does not provide you with a terminal to enter commands to manage your Python environment. To install Python libraries and other programs, we can use the ! character to run shell commands just like in Jupyter notebooks, e.g. to take a look at the CPU, we can use: '!cat /proc/cpuinfo'\n"
      ],
      "metadata": {
        "id": "d1xoWBFHB-Zr"
      }
    },
    {
      "cell_type": "code",
      "source": [
        "!cat /proc/cpuinfo"
      ],
      "metadata": {
        "id": "lHBqhpe7D8TD"
      },
      "execution_count": null,
      "outputs": []
    },
    {
      "cell_type": "markdown",
      "metadata": {
        "id": "tJPftcm3BHHP"
      },
      "source": [
        "# Introduction to Python\n",
        "\n",
        "We'll be coding using the Python programming language because it's friendly for beginners but still incredibly powerful for working with data. We'll use the latest version of Python, also known as Python 3."
      ]
    },
    {
      "cell_type": "markdown",
      "metadata": {
        "id": "sd2K7EoNBHHR"
      },
      "source": [
        "## 1: Variables\n",
        "\n",
        "Variables are a fundamental building block of most programming languages. We use variables to store values that we want to use later. We first select a name for the variable and then assign the variable a value. We then can refer to that value using the variable name. Variables to values are just like containers to food.\n",
        "\n",
        "For example, if we know we're going to be using the value 10 a lot, we can store the value 10 in a variable called b. Then whenever we want to refer to that value, we can use b instead of 10. To assign the value 10 to a new variable named b, you write the desired variable name, add an equals sign (=), and then write the value you want that variable to store.\n",
        "\n",
        "b = 10\n",
        "\n",
        "The equals sign (=) is called the assignment operator since it's used to assign the value on the right to the variable on the left. In Python, variable names can't have spaces or special characters like * or |. In general, you should use lower-case characters when naming variables. The one special character you can use is the underscore (_).\n",
        "\n",
        "In Python, the value assigned to a variable can be modified. You can assign a different value to an existing variable and the variable will refer to the new value instead. To assign a new value to the variable b, use the same assignment operator (=) along with the name of the variable and the new value you want assigned to it:\n",
        "\n",
        "b = 10\n",
        "b = 11\n",
        "\n",
        "b = 12\n",
        "\n",
        "After the last line of code, the variable b refers to the value 12.\n",
        "\n",
        "Instructions:\n",
        "\n",
        "The default code in the code cell assigns the value 5 to the variable b. Add a new line below that assigns 6 to b."
      ]
    },
    {
      "cell_type": "code",
      "source": [
        "# Instructions: assigns the value 5 to the variable b. Then add a new line below that assigns 6 to b.\n",
        "# Add your code below.\n",
        "\n",
        "\n"
      ],
      "metadata": {
        "id": "RkL9Z3F4TB3M"
      },
      "execution_count": null,
      "outputs": []
    },
    {
      "cell_type": "markdown",
      "metadata": {
        "id": "wniJjoUJBHHU"
      },
      "source": [
        "## 2: Commenting\n",
        "\n",
        "### Commenting a single line\n",
        "You can use the \"#\" sign to comment a single line\n",
        "\n",
        "\n",
        "###  Commenting/Uncommenting a block of code\n",
        "While working with codes, we often add new lines of code and comment out the old pieces of code for improving the performance or to debug it. Jupyter notebook provides a very efficient way to achieve the same.\n",
        "\n",
        "To comment out a block of code: First, we need to select all those lines which we want to comment out. Next, on a Windows computer, we need to press the ctrl + / (command + / for Mac users) key combination to comment out the highlighted portion of the code. If you press the ctrl + / key (command + / for Mac users) combination  again, the highlighted code will be uncommented.\n"
      ]
    },
    {
      "cell_type": "code",
      "execution_count": null,
      "metadata": {
        "scrolled": true,
        "id": "d9VVticdBHHU"
      },
      "outputs": [],
      "source": [
        "# Instructions: try commenting a single line and a block of code\n",
        "\n",
        "\n",
        "\n"
      ]
    },
    {
      "cell_type": "markdown",
      "metadata": {
        "id": "3IJJ_RxeBHHV"
      },
      "source": [
        "## 3: Print Function\n",
        "As we use more variables, we'd like a way to display the current value of a variable. Python contains a function called print() that will display the value of any current variable. A function contains code that takes in an input value (through the parentheses), performs some operations, and typically returns a value. Functions save you time by allowing you to reuse code. We'll learn more about functions soon, but for now, the print() function takes in a value and displays it. The following code will display the value 6:"
      ]
    },
    {
      "cell_type": "code",
      "execution_count": null,
      "metadata": {
        "scrolled": true,
        "id": "SwC5X6OqBHHV"
      },
      "outputs": [],
      "source": [
        "# Instructions: Use the print() function to display the value stored in b.\n",
        "# Use the print() function to display the number 500.\n",
        "\n",
        "\n",
        "\n"
      ]
    },
    {
      "cell_type": "code",
      "execution_count": null,
      "metadata": {
        "scrolled": true,
        "id": "QnHs1kTUBHHW"
      },
      "outputs": [],
      "source": [
        "# formatted output\n",
        "\n",
        "v1 = \"python\"\n",
        "v2 = \"eight\"\n",
        "v3 = 8\n",
        "v4 = 4.0\n",
        "\n",
        "# 1. print with a comma separated list of values\n",
        "print(\"v3*v4=\", v3*v4)\n",
        "\n",
        "# 2. print with a string concatenation operator\n",
        "print(\"v3*v4= \" + str(v3*v4))\n",
        "\n",
        "# 3. print with placeholders\n",
        "print(\"I took %s when I was %i\" %(v1, v3))\n",
        "print(\"I took %s when I was %f\" %(v1, v4))"
      ]
    },
    {
      "cell_type": "markdown",
      "metadata": {
        "id": "U2baap0JBHHW"
      },
      "source": [
        "## 4: Types\n",
        "We've worked with numbers like 5 and 6 so far, which are known as integers. Another common type is a string, which is used to represent text. Some examples of strings are \"hello\" and \"Hello,World!\". Both strings and integers are different types of values. When a string is stored in a variable, we sometimes call the variable a string, to make it simpler to identify the variable based on its value. To represent a piece of text as a string, surround that text with quotes:\n",
        "\n",
        "\n",
        "\n",
        "s = \"Hello World\"\n",
        "\n",
        "\n",
        "Unlike variable names, strings can contain special characters and spaces. Use either single quotes (') or double quotes (\") to start and end the string. Another common type is a float, which is used to represent decimal values:\n",
        "\n",
        "\n",
        "\n",
        "d = 0.25\n",
        "\n",
        "You may have noticed a pattern here. Numerical values, like integers and floats, don't require quotes, but strings do. Each value in Python has a type associated with it, which Python uses to determine how the value should be handled. For example, Python contains a specificiation to allow integer variables to be divided, but not string variables. We'll learn more about that soon, but let's practice some of the concepts you've learned so far.\n",
        "\n",
        "\n"
      ]
    },
    {
      "cell_type": "code",
      "execution_count": null,
      "metadata": {
        "scrolled": true,
        "id": "BmuMWAkGdtjh"
      },
      "outputs": [],
      "source": [
        "# Instructions\n",
        "# Assign the integer value 100 to the variable named hundred_integer.\n",
        "\n",
        "\n",
        "\n",
        "# Assign the string value \"hundred\" to the variable named hundred_string.\n",
        "\n",
        "\n",
        "\n",
        "# Assign the float value 100.5 to the variable named hundred_float.\n",
        "\n",
        "\n"
      ]
    },
    {
      "cell_type": "markdown",
      "metadata": {
        "id": "DhQETnsqBHHX"
      },
      "source": [
        "## 5: Type Function\n",
        "We can lookup the type of the value a variable contains using the type() function. Similar to the print() function, you pass in the variable of interest into the parentheses. Unlike the print() function, the type() function won't display the result but will instead return, or give back, the type.\n",
        "\n",
        "In the following code, the integer value 5 is assigned to the variable a. Then the type() function returns a value, which is passed to the print() function:\n",
        "\n",
        "\n",
        "a = 5\n",
        "\n",
        "print(type(a))\n",
        "\n",
        "\n",
        "Since the type() function returns a value, you can assign this value to a variable first. In the following code, the type of a is assigned to the variable t and then displayed using the print() function:\n",
        "\n",
        "\n",
        "\n",
        "a = 5\n",
        "\n",
        "t = type(a)\n",
        "\n",
        "print(t)\n",
        "\n",
        "\n",
        "\n"
      ]
    },
    {
      "cell_type": "code",
      "execution_count": null,
      "metadata": {
        "scrolled": true,
        "id": "Nj1mjrEaBHHY"
      },
      "outputs": [],
      "source": [
        "# Instructions\n",
        "# Assign the type of 10 to c then use the print() function to display c.\n",
        "\n"
      ]
    },
    {
      "cell_type": "markdown",
      "metadata": {
        "id": "QWxx8DiQBHHY"
      },
      "source": [
        "## 6: Arithmetic Operators\n",
        "\n",
        "Python contains arithmetic operators, or symbols, which allow you to perform calculations using variables of numeric types, or numeric variables for short. The four basic arithmetic operators are:\n",
        "\n",
        "\n",
        "Operation | Sign\n",
        "--- | ---\n",
        "*+* | `for addition`\n",
        "*-* | `for subtraction`\n",
        "* | `for multiplication`\n",
        "*/* | `for division`\n",
        "\n",
        "To perform a calculation, you simply place the operator between the variables you want to perform calculations with (just like in math):\n",
        "\n",
        "\n",
        "\n",
        "\n",
        "        sixteen = 8 + 8\n",
        "\n",
        "        zero = 8 - 8\n",
        "\n",
        "        eight = 8\n",
        "\n",
        "        sixteen = eight + eight\n",
        "\n",
        "        twentyfour = eight + eight + eight\n",
        "\n",
        "        zero = eight + eight + eight - (eight * 3)\n",
        "\n",
        "\n",
        "\n",
        "Python inherits the order of operations principles from math. We use parentheses in the last line of the example code to specify that we want that multiplication operation (eight * 3) to happen separately.\n",
        "\n",
        "\n",
        "The division operator has some quirks that cause unexpected behavior. For example, dividing the integer 8 by itself (8) actually returns the float 1.0 not the integer 1 in Python 3. We'll dive more into why this happens in a later course but for now let's practice using the other operators.\n",
        "\n"
      ]
    },
    {
      "cell_type": "code",
      "execution_count": null,
      "metadata": {
        "scrolled": true,
        "id": "wyC3oeRXBHHY"
      },
      "outputs": [],
      "source": [
        "# Instructions\n",
        "\n",
        "five = 5\n",
        "\n",
        "# Use the arithmetic operators and the variable five to perform calculations that result in 25.\n",
        "# Assign to the variable twenty_five.\n",
        "\n",
        "\n",
        "# Use the arithmetic operators and the variable five to perform calculations that result in -5.\n",
        "# Assign to the variable negative_five.\n",
        "\n",
        "\n"
      ]
    },
    {
      "cell_type": "markdown",
      "metadata": {
        "id": "csbh6FGQBHHZ"
      },
      "source": [
        "## 7: Converting Types\n",
        "We've represented numeric values with types like integer and float so far. You can also represent them as strings, which allow you to take advantage of the features available to strings but not numeric types. Python contains functions that will convert a value to a different type.\n",
        "\n",
        "The str() function will convert a variable or value of numeric type into a string. The int() function will attempt to convert a string into an integer, but will result in an error if the string isn't actually an integer (e.g. \"January\"). We'll dive more into errors in a later mission, but the key idea is that an error stops your code from completing all the way through and will display a message describing the mistake you made.\n",
        "\n",
        "\n",
        "int_eight = 8\n",
        "\n",
        "str_eight = str(int_eight)\n",
        "\n",
        "int_eight = int(str_eight)\n",
        "\n",
        "int(\"January\") /# Will result in an error\n"
      ]
    },
    {
      "cell_type": "code",
      "execution_count": null,
      "metadata": {
        "scrolled": true,
        "id": "Np59ZpHpBHHZ"
      },
      "outputs": [],
      "source": [
        "# Instructions\n",
        "# The variable eight contains the integer 8 and the variable ten contains the string \"10\".\n",
        "# Convert eight to a string using the str() function and assign to str_eight.\n",
        "# Then, convert ten to an integer using the int() function and assign to int_ten.\n",
        "\n",
        "\n",
        "\n",
        "\n",
        "\n",
        "\n"
      ]
    },
    {
      "cell_type": "markdown",
      "metadata": {
        "id": "2s7Fm9p2BHHa"
      },
      "source": [
        "## 8: Lists\n",
        "A list is an object that represents a sequence of values. For example, the months in a year can be represented as a list, either as a sequence of strings (\"January\", \"February\", etc) or as a sequence of integers (0, 1, 2, etc). The most basic way to make a list is to create an empty list and then add values to it. To create an empty list, assign a pair of empty brackets [] to a variable:\n",
        "\n",
        "\n",
        "\n",
        "`l` is an empty list (contains no values)\n",
        "\n",
        "l = []\n",
        "\n",
        "\n",
        "To add values to the list, use the append() method. l is a list and has a method named append() that takes in a string input and adds that string value to l. Unlike functions, methods are called using dot notation (.) on a specific object. Let's see what this looks in code!\n",
        "\n",
        "In the following code cell, we use the append() method to add the string \"January\" to the list l. We then add the string \"February\" to list l. The append() method is called on an instance of the list class (l) and modifies that specific instance (l):\n",
        "\n",
        "\n",
        "`l` is an empty list to start\n",
        "\n",
        "l = []\n",
        "\n",
        "Python knows that `l` is a list, which has the append() method\n",
        "\n",
        "l.append(\"January\")\n",
        "\n",
        "l.append(\"February\")\n",
        "\n",
        "You can also use remove() function to remove an item.  \n",
        "\n",
        "l.remove(\"January\")\n",
        "\n",
        "The list l now contains 2 string values, January and February. In the starter code, we created an empty list, l, and then used the print() function to display the type to confirm. We appended January to the list l, followed by February."
      ]
    },
    {
      "cell_type": "code",
      "execution_count": null,
      "metadata": {
        "scrolled": true,
        "id": "WePuxG8fBHHa"
      },
      "outputs": [],
      "source": [
        "# Instructions\n",
        "# Append \"March\" and \"April\" to the list l\n",
        "# Display the list l using the print() function.\n",
        "\n",
        "\n",
        "\n",
        "\n"
      ]
    },
    {
      "cell_type": "markdown",
      "metadata": {
        "id": "euxX6uezBHHa"
      },
      "source": [
        "## 9: Creating Lists With Values\n",
        "\n",
        "We learned how to create a list by first creating an empty list then adding values to the list using the append() method. When working with multiple lists, this can become tedious since you'd have to write many lines of code (one for each value in each list!).\n",
        "\n",
        "Python has a feature that allows you to create and fill a list with values at the same time. Instead of creating an empty list using empty brackets, [], and then adding elements to it using the append() method, you specify the values you want the list to contain in the brackets (separated by commas):\n",
        "\n",
        "\n",
        "l = [\"January\", \"February\", \"March\", \"April\"]\n",
        "\n",
        "m = [0,1,2,3]\n"
      ]
    },
    {
      "cell_type": "code",
      "execution_count": null,
      "metadata": {
        "scrolled": true,
        "id": "MWEA_n9sBHHa"
      },
      "outputs": [],
      "source": [
        "# Instructions\n",
        "# Write a single line of code that creates a list, named years, and fills it with the integer values 2010, 2011, 2012, 2013, and 2014, in that order.\n",
        "\n",
        "\n",
        "\n",
        "\n",
        "\n",
        "\n"
      ]
    },
    {
      "cell_type": "markdown",
      "metadata": {
        "id": "39Jsnrt8BHHb"
      },
      "source": [
        "## 10: Multiple Types In List\n",
        "In Python, you can add values of different types to the same list. The following code appends the integer 0 then the string \"January\" to the list m:\n",
        "\n",
        "\n",
        "\n",
        "    m = []\n",
        "    m.append(0)\n",
        "    m.append(\"January\")\n",
        "\n",
        "You can also utilize the shortcut we learned to create and fill a list with values of mixed types:\n",
        "\n",
        "\n",
        "    m = [0, \"January\", 1, \"February\"]\n",
        "    n = [0.0, \"Jan\", 1]\n"
      ]
    },
    {
      "cell_type": "code",
      "execution_count": null,
      "metadata": {
        "scrolled": true,
        "id": "PF7kuhZ2BHHb"
      },
      "outputs": [],
      "source": [
        "# Instructions\n",
        "# Create a list o that contains the following elements, in order:\n",
        "# \"Jan\" (string)\n",
        "# 5.0 (float)\n",
        "# 1.0 (float)\n",
        "# \"uary\" (string)\n",
        "# 10 (integer)\n",
        "\n",
        "\n",
        "\n",
        "\n"
      ]
    },
    {
      "cell_type": "markdown",
      "metadata": {
        "id": "w4b-fKpgBHHb"
      },
      "source": [
        "## 11: List Index\n",
        "\n",
        "Now that we know how to create and add values to a list, let's learn how to actually access values in a list we've created. Since a list is a sequence of values, each value has an index, or position, associated with it. A list starts at index 0 and goes all the way to one less than the number of elements in the list. If you have a list with 5 values, or elements, the indices will range from 0 to 4.\n",
        "\n",
        "The main quirk is that to access the first value in a list, we actually use the index value 0, not 1. The second value is accessed by index value 1, the third value by index value 2, and so on. This is known as zero indexing since the indices start at 0 not 1. Many programming languages use zero indexing but there are some, like MATLAB, that don't.\n",
        "To return the value at a certain index, use bracket notation and pass in the integer corresponding to the index. In the following code, we create a list years with 5 elements and access the first, second, and fifth elements in the list. We assign each of the accessed values to variables:\n",
        "\n",
        "\n",
        "\n",
        "\n",
        "    years = [2010, 2011, 2012, 2013, 2014]\n",
        "    first_value = years[0] # 2010\n",
        "    second_value = years[1] # 2011\n",
        "    fifth_value = years[4] # 2014\n",
        "\n",
        "\n",
        "\n",
        "Python expects an integer value in the brackets that's in the range of the list's indices. Passing in a non-integer value or an integer value outside of the range of indices (e.g. index 7 for a list only containing 5 elements) will result in an error."
      ]
    },
    {
      "cell_type": "code",
      "execution_count": null,
      "metadata": {
        "scrolled": true,
        "id": "Q3Bl7gifBHHb"
      },
      "outputs": [],
      "source": [
        "# Instructions\n",
        "# The list int_months contains the values 1 to 12.\n",
        "# Select the value at index 4 and assign to the variable index_four = .\n",
        "# Then, select the last value in the list and assign to last_value.\n",
        "\n",
        "\n",
        "\n",
        "\n",
        "\n",
        "\n",
        "\n"
      ]
    },
    {
      "cell_type": "markdown",
      "metadata": {
        "id": "9JFwAAbPBHHc"
      },
      "source": [
        "## 12: List Length\n",
        "We mentioned earlier that trying to lookup a value at an index that's not in the list will return an error and cause your code to halt. You may be wondering how we avoid accidentally looking up a value that's outside the index of a list. Python contains the len() function that returns the length of a list, or the number of elements in that list. The function returns this value as an integer:\n",
        "\n",
        "\n",
        "    int_months = [1, 2, 3, 4, 5, 6, 7, 8, 9, 10, 11, 12]\n",
        "\n",
        "    twelve = len(int_months) # Contains the value 12.\n",
        "\n",
        "\n",
        "If we're ever unsure of the number of elements in a list, we can pass in the list to the len() function. Since the len() function returns an integer, we can subtract 1 from this number to retrieve the index of the last element in a list.\n",
        "\n",
        "\n",
        "    int_months = [1, 2, 3, 4, 5, 6, 7, 8, 9, 10, 11, 12]\n",
        "\n",
        "    eleven = len(int_months) - 1\n",
        "\n",
        "    last_value = int_months[eleven] # Contains the value at index 11.\n",
        "\n",
        "\n",
        "We need to subtract 1 from the result of the len() function, since lists are zero-indexed."
      ]
    },
    {
      "cell_type": "code",
      "execution_count": null,
      "metadata": {
        "scrolled": true,
        "id": "wgQayI5yBHHc"
      },
      "outputs": [],
      "source": [
        "# Instructions\n",
        "# Retrieve the second to last element from the list months and assign it to second_last.\n",
        "# Then, use the print() function to display second_last.\n",
        "\n",
        "\n",
        "\n"
      ]
    },
    {
      "cell_type": "markdown",
      "metadata": {
        "id": "OpldAa87BHHc"
      },
      "source": [
        "## 13: List Slicing\n",
        "\n",
        "If we have a list containing thousands of values and we want to grab the values between index 10 and 500, this is a lot of work with what we know so far. Lists contain a feature called slicing that allow you to return all of the values between a starting index and an ending index. To slice a list, pass in the starting and ending index positions as integer values into the brackets we use for indexing a list, separated by a colon :. Only values from the starting index up to, but not including, the ending index are returned.\n",
        "\n",
        "When you slice a list, you return a new list containing just the values you're interested in. Python returns all values from the starting index to the ending index (not returning the value at the ending index). In the following code, we use a slice to retrieve a list containing just the values at index 2 and index 3:\n",
        "\n",
        "\n",
        "\n",
        "    months = [\"Jan\", \"Feb\", \"Mar\", \"Apr\", \"May\", \"Jun\", \"Jul\", \"Aug\", \"Sept\", \"Oct\", \"Nov\", \"Dec\"]\n",
        "    # Values at index 2, 3, but not 4.\n",
        "    two_four = months[2:4]\n",
        "\n",
        "\n",
        "In the following code, we use the len() function to retrieve the number of elements in the list months and use it as the ending index:\n",
        "\n",
        "    #  Values at index 8, 9, 10, 11 but not 12.\n",
        "    ending_index = len(months)\n",
        "    eight_eleven = months[8:ending_index]\n",
        "\n",
        "\n",
        "We returned a list eight_eleven that contains the last 4 elements in the list months by specifying a slice from the starting index (8) to the ending index (len(months)).\n"
      ]
    },
    {
      "cell_type": "code",
      "execution_count": null,
      "metadata": {
        "scrolled": true,
        "id": "O3rfCSXbBHHd"
      },
      "outputs": [],
      "source": [
        "# Instructions\n",
        "# Use slicing to return a list named five_nine that contains the values from index 5 to index 9 (including the value at index 9).\n",
        "# Then, display the first 5 elements in months.\n",
        "\n",
        "\n",
        "\n",
        "\n",
        "\n",
        "\n"
      ]
    },
    {
      "cell_type": "markdown",
      "source": [
        "## 14: Further Reading\n",
        "\n",
        "This section provides more resources on the topic if you are looking to go deeper.\n",
        "\n",
        "* “Welcome to Colab” Notebook: https://colab.research.google.com/\n",
        "* Jupyter Notebook Documentation: https://docs.jupyter.org/en/latest/"
      ],
      "metadata": {
        "id": "BnKuCQU4HLAh"
      }
    },
    {
      "cell_type": "markdown",
      "source": [
        "The link to the solutin of this notebook: https://aub.ie/intro1-solution"
      ],
      "metadata": {
        "id": "TKZQBQJJhAJw"
      }
    }
  ],
  "metadata": {
    "kernelspec": {
      "display_name": "Python 3",
      "language": "python",
      "name": "python3"
    },
    "language_info": {
      "codemirror_mode": {
        "name": "ipython",
        "version": 3
      },
      "file_extension": ".py",
      "mimetype": "text/x-python",
      "name": "python",
      "nbconvert_exporter": "python",
      "pygments_lexer": "ipython3",
      "version": "3.8.8"
    },
    "colab": {
      "provenance": [],
      "include_colab_link": true
    }
  },
  "nbformat": 4,
  "nbformat_minor": 0
}